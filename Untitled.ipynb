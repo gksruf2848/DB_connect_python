{
 "cells": [
  {
   "cell_type": "code",
   "execution_count": 8,
   "id": "7bf14aaa",
   "metadata": {},
   "outputs": [
    {
     "ename": "OperationalError",
     "evalue": "table tbl_004 has no column named rsp_msg",
     "output_type": "error",
     "traceback": [
      "\u001b[0;31m---------------------------------------------------------------------------\u001b[0m",
      "\u001b[0;31mOperationalError\u001b[0m                          Traceback (most recent call last)",
      "Input \u001b[0;32mIn [8]\u001b[0m, in \u001b[0;36m<cell line: 15>\u001b[0;34m()\u001b[0m\n\u001b[1;32m     15\u001b[0m \u001b[38;5;28;01mwith\u001b[39;00m sqlite3\u001b[38;5;241m.\u001b[39mconnect(db_filename) \u001b[38;5;28;01mas\u001b[39;00m conn:\n\u001b[1;32m     16\u001b[0m     cursor \u001b[38;5;241m=\u001b[39m conn\u001b[38;5;241m.\u001b[39mcursor()\n\u001b[0;32m---> 17\u001b[0m     \u001b[43mconn\u001b[49m\u001b[38;5;241;43m.\u001b[39;49m\u001b[43mexecute\u001b[49m\u001b[43m(\u001b[49m\u001b[38;5;124;43m\"\u001b[39;49m\u001b[38;5;124;43mInsert into tbl_004 (rsp_code, rsp_msg, tran_idn_num) values (\u001b[39;49m\u001b[38;5;124;43m'\u001b[39;49m\u001b[38;5;124;43mCODE\u001b[39;49m\u001b[38;5;124;43m'\u001b[39;49m\u001b[38;5;124;43m, \u001b[39;49m\u001b[38;5;124;43m'\u001b[39;49m\u001b[38;5;124;43m응답메시지입니다\u001b[39;49m\u001b[38;5;124;43m'\u001b[39;49m\u001b[38;5;124;43m, \u001b[39;49m\u001b[38;5;124;43m'\u001b[39;49m\u001b[38;5;124;43mBA23\u001b[39;49m\u001b[38;5;124;43m'\u001b[39;49m\u001b[38;5;124;43m)\u001b[39;49m\u001b[38;5;124;43m\"\u001b[39;49m\u001b[43m)\u001b[49m\n\u001b[1;32m     18\u001b[0m     conn\u001b[38;5;241m.\u001b[39mcommit()\n\u001b[1;32m     20\u001b[0m     cursor\u001b[38;5;241m.\u001b[39mexecute(\u001b[38;5;124m\"\"\"\u001b[39m\n\u001b[1;32m     21\u001b[0m \u001b[38;5;124m    select * from tbl_004\u001b[39m\n\u001b[1;32m     22\u001b[0m \u001b[38;5;124m    \u001b[39m\u001b[38;5;124m\"\"\"\u001b[39m)\n",
      "\u001b[0;31mOperationalError\u001b[0m: table tbl_004 has no column named rsp_msg"
     ]
    }
   ],
   "source": [
    "import sqlite3\n",
    "\n",
    "\n",
    "db_filename = 'hanlim.db'\n",
    "\n",
    "with sqlite3.connect(db_filename, detect_types=sqlite3.PARSE_DECLTYPES) as conn:\n",
    "    conn.execute(\"\"\"\n",
    "    create table if not exists tbl_004 (\n",
    "        id      integer primary key autoincrement not null,\n",
    "        rsp_code    text,\n",
    "        rsp_msg     text,\n",
    "        tran_idn_num    text\n",
    "    )\"\"\")\n",
    "\n",
    "with sqlite3.connect(db_filename) as conn:\n",
    "    cursor = conn.cursor()\n",
    "    conn.execute(\"Insert into tbl_004 (rsp_code, rsp_msg, tran_idn_num) values ('CODE', '응답메시지입니다', 'BA23')\")\n",
    "    conn.commit()\n",
    "\n",
    "    cursor.execute(\"\"\"\n",
    "    select * from tbl_004\n",
    "    \"\"\")\n",
    "    rsp_code, rsp_msg, tran_idn_num = cursor.fetchone()\n",
    "    res_004 = '{\"rsp_code\":rsp_code, \"rsp_msg\":rsp_msg, \"tran_idn_num\":tran_idn_num}'\n",
    "    print(res_004)"
   ]
  },
  {
   "cell_type": "code",
   "execution_count": null,
   "id": "ea4bdc20",
   "metadata": {},
   "outputs": [],
   "source": []
  },
  {
   "cell_type": "code",
   "execution_count": null,
   "id": "9500b625",
   "metadata": {},
   "outputs": [],
   "source": []
  }
 ],
 "metadata": {
  "kernelspec": {
   "display_name": "Python 3 (ipykernel)",
   "language": "python",
   "name": "python3"
  },
  "language_info": {
   "codemirror_mode": {
    "name": "ipython",
    "version": 3
   },
   "file_extension": ".py",
   "mimetype": "text/x-python",
   "name": "python",
   "nbconvert_exporter": "python",
   "pygments_lexer": "ipython3",
   "version": "3.10.6"
  }
 },
 "nbformat": 4,
 "nbformat_minor": 5
}
